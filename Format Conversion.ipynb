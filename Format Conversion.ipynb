version https://git-lfs.github.com/spec/v1
oid sha256:667a67097650ea679bb1fc8c29f356f06032d28fb29a08bcd385b1a4bb48fcc2
size 6699
